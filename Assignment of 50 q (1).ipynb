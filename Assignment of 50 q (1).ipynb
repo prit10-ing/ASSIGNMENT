{
 "cells": [
  {
   "cell_type": "code",
   "execution_count": 4,
   "id": "1f4e7267-07ea-4185-b583-98261061496f",
   "metadata": {},
   "outputs": [
    {
     "name": "stdin",
     "output_type": "stream",
     "text": [
      "Enter your word :  hjui\n"
     ]
    },
    {
     "name": "stdout",
     "output_type": "stream",
     "text": [
      "Not palindrome\n"
     ]
    }
   ],
   "source": [
    "# 1. Check if a given string is a palindrome\n",
    "\n",
    "usr_inp = str(input(\"Enter your word : \"))\n",
    "\n",
    "\n",
    "if usr_inp == usr_inp[::-1]:\n",
    "    print(\"This is paimdrome\")\n",
    "else:\n",
    "    print(\"Not palindrome\")"
   ]
  },
  {
   "cell_type": "code",
   "execution_count": 34,
   "id": "5f9c90ae-fc23-4dcf-bcbc-ee6bb14296f2",
   "metadata": {},
   "outputs": [
    {
     "name": "stdin",
     "output_type": "stream",
     "text": [
      "Enter your word :  aesae\n"
     ]
    },
    {
     "name": "stdout",
     "output_type": "stream",
     "text": [
      "Vowels in the string: {'a': 'a', 'e': 'e'}\n"
     ]
    }
   ],
   "source": [
    "# 2. Count the number of vowels in a string and store the result in a dictionary.\n",
    "\n",
    "\n",
    "usr_inp1 = (input(\"Enter your word : \"))\n",
    "\n",
    "vowels = \"AEIOUaeiu\"\n",
    "vowels_1 = {}\n",
    "\n",
    "\n",
    "for i in usr_inp1:\n",
    "    if  i in vowels:\n",
    "        vowels_1[i.lower()] = i\n",
    "print(\"Vowels in the string:\", dict(vowels_1.items()))\n"
   ]
  },
  {
   "cell_type": "code",
   "execution_count": 35,
   "id": "b65a653c-f166-4c2a-a7ac-6fa391adf2cb",
   "metadata": {},
   "outputs": [
    {
     "name": "stdin",
     "output_type": "stream",
     "text": [
      "Enter your string :  vhh hhh\n"
     ]
    },
    {
     "name": "stdout",
     "output_type": "stream",
     "text": [
      "Vhh Hhh\n"
     ]
    }
   ],
   "source": [
    "# 3. Convert the first letter of each word in a string to uppercase (title case manually).\n",
    "\n",
    "entr_str = str(input(\"Enter your string : \"))\n",
    "i=entr_str.title()\n",
    "print(i)\n",
    "\n"
   ]
  },
  {
   "cell_type": "code",
   "execution_count": 41,
   "id": "90996984-6e04-48ce-8415-4af89bd944e6",
   "metadata": {},
   "outputs": [
    {
     "name": "stdin",
     "output_type": "stream",
     "text": [
      "Enter a string:  ahfafhahfjahj\n"
     ]
    },
    {
     "name": "stdout",
     "output_type": "stream",
     "text": [
      "Most frequent character: a\n",
      "It appears 4 times\n"
     ]
    },
    {
     "data": {
      "text/plain": [
       "2"
      ]
     },
     "execution_count": 41,
     "metadata": {},
     "output_type": "execute_result"
    }
   ],
   "source": [
    "#4. Find the most frequently occurring character in a string.\n",
    "\n",
    "\n",
    "text = input(\"Enter a string: \")\n",
    "\n",
    "max_count = 0\n",
    "most_char = \"\"\n",
    "\n",
    "for ch in text:\n",
    "    if ch != \" \":  \n",
    "        count = text.count(ch)\n",
    "        if count > max_count:\n",
    "            max_count = count\n",
    "            most_char = ch\n",
    "\n",
    "print(\"Most frequent character:\", most_char)\n",
    "print(\"It appears\", max_count, \"times\")\n",
    "\n",
    "\n",
    "\n",
    "\n",
    "\n"
   ]
  },
  {
   "cell_type": "code",
   "execution_count": 50,
   "id": "c1a0f860-ac91-49c1-9572-bf7d3ca1f74d",
   "metadata": {},
   "outputs": [
    {
     "name": "stdin",
     "output_type": "stream",
     "text": [
      "Enter a string:  fgsgsdgddfd4436@$$\n"
     ]
    },
    {
     "name": "stdout",
     "output_type": "stream",
     "text": [
      "Alphabets: 11\n",
      "Digits: 4\n",
      "Special characters: 3\n"
     ]
    }
   ],
   "source": [
    "# .5 Count digits, alphabets, and special characters separately in a string\n",
    "\n",
    "\n",
    "text = input(\"Enter a string: \")\n",
    "\n",
    "alphabets = 0\n",
    "digits = 0\n",
    "special = 0\n",
    "\n",
    "for ch in text:\n",
    "    if ch.isalpha():       \n",
    "        alphabets += 1\n",
    "    elif ch.isdigit():      \n",
    "        digits += 1\n",
    "    else:                  \n",
    "        special += 1\n",
    "\n",
    "print(\"Alphabets:\", alphabets)\n",
    "print(\"Digits:\", digits)\n",
    "print(\"Special characters:\", special)\n",
    "\n"
   ]
  },
  {
   "cell_type": "markdown",
   "id": "bf7dbb36-fd82-453c-a87b-0053bda97177",
   "metadata": {},
   "source": [
    "# LIST"
   ]
  },
  {
   "cell_type": "code",
   "execution_count": 52,
   "id": "5b01893b-5801-4318-8840-4773192e230f",
   "metadata": {},
   "outputs": [
    {
     "data": {
      "text/plain": [
       "[2, 2, 2, 2, 4, 5, 5, 21, 23, 23, 42, 444]"
      ]
     },
     "execution_count": 52,
     "metadata": {},
     "output_type": "execute_result"
    }
   ],
   "source": [
    " # 1.Remove duplicate elements from a list without using set().\n",
    "\n",
    "l1 =[23,23,4,5,42,2,2,2,444,21,2,5]\n"
   ]
  },
  {
   "cell_type": "code",
   "execution_count": 57,
   "id": "36edbe14-d00f-4439-8303-c285ca6ea20e",
   "metadata": {},
   "outputs": [
    {
     "name": "stdout",
     "output_type": "stream",
     "text": [
      "[2, 4, 5, 21, 23, 42, 444]\n"
     ]
    }
   ],
   "source": [
    "unique_list = list(dict.fromkeys(l1))\n",
    "print(unique_list)"
   ]
  },
  {
   "cell_type": "code",
   "execution_count": 61,
   "id": "25c9fa64-2994-4f70-a354-ebf53a1715bd",
   "metadata": {},
   "outputs": [
    {
     "data": {
      "text/plain": [
       "[5, 2, 21, 444, 2, 2, 2, 42, 5, 4, 23, 23]"
      ]
     },
     "execution_count": 61,
     "metadata": {},
     "output_type": "execute_result"
    }
   ],
   "source": [
    "#2. Reverse a list without using built-in functions.\n",
    "\n",
    "l1 =[23,23,4,5,42,2,2,2,444,21,2,5]\n",
    "\n",
    "l1[::-1]\n"
   ]
  },
  {
   "cell_type": "code",
   "execution_count": 81,
   "id": "6b5e4035-819f-457a-87c5-90cbf5c3de84",
   "metadata": {},
   "outputs": [
    {
     "name": "stdout",
     "output_type": "stream",
     "text": [
      "2nd smallest number 4\n",
      "2nd largest number 42\n"
     ]
    }
   ],
   "source": [
    "#3.Find the 2nd largest and 2nd smallest element in a list.\n",
    "\n",
    "l1 =[23,23,4,5,42,2,2,2,444,21,2,5]\n",
    "c = list(set(l1))\n",
    "c.sort()\n",
    "c\n",
    "print(\"2nd smallest number\", c[1])\n",
    "print(\"2nd largest number\", c[-2])"
   ]
  },
  {
   "cell_type": "code",
   "execution_count": 98,
   "id": "285e05cd-e30d-4a41-b8d8-ebd4a9994066",
   "metadata": {},
   "outputs": [
    {
     "name": "stdout",
     "output_type": "stream",
     "text": [
      "This is your original [23, 23, 4, 5, 42, 2, 2, 2, 444, 21, 2, 5]\n",
      "This is your square  [529, 529, 16, 25, 1764, 4, 4, 4, 197136, 441, 4, 25]\n"
     ]
    }
   ],
   "source": [
    "#9. Store the square of each element of a list into a new list (using list comprehension).\n",
    "\n",
    "\n",
    "l1 =[23,23,4,5,42,2,2,2,444,21,2,5]\n",
    "l2=[i**2 for i in l1]\n",
    "print(\"This is your original\",l1)\n",
    "\n",
    "print(\"This is your square \",l2)\n",
    "\n",
    "    "
   ]
  },
  {
   "cell_type": "code",
   "execution_count": 99,
   "id": "fdda50b7-ba16-40b7-80c6-4e4b686c62ae",
   "metadata": {},
   "outputs": [
    {
     "name": "stdout",
     "output_type": "stream",
     "text": [
      "[1, 2, 3, 4, 5]\n"
     ]
    }
   ],
   "source": [
    "#10. Flatten a nested list into a single list.\n",
    "nested = [[1, 2], [3, 4], [5]]\n",
    "\n",
    "flat = [x for sublist in nested for x in sublist]\n",
    "\n",
    "print(flat)\n"
   ]
  },
  {
   "cell_type": "markdown",
   "id": "26c1175d-14b3-496e-a730-772fff91172c",
   "metadata": {},
   "source": [
    "# TUPLE"
   ]
  },
  {
   "cell_type": "code",
   "execution_count": 116,
   "id": "f208f4f2-78e6-43e9-ae82-62cf96becfad",
   "metadata": {},
   "outputs": [
    {
     "name": "stdout",
     "output_type": "stream",
     "text": [
      "Reversed: (5, 4, 3, 2, 1)\n"
     ]
    }
   ],
   "source": [
    "# 1 Reverse a tuple without using [::-1]\n",
    "\n",
    "t = (1, 2, 3, 4, 5)\n",
    "\n",
    "temp = list(t)     \n",
    "temp.reverse()    \n",
    "rev_t = tuple(temp)\n",
    "\n",
    "print(\"Reversed:\", rev_t)\n",
    "\n",
    "\n",
    "\n"
   ]
  },
  {
   "cell_type": "code",
   "execution_count": 119,
   "id": "d5ce97f4-9fd5-4a8e-ab7b-d6795a39c23d",
   "metadata": {},
   "outputs": [
    {
     "data": {
      "text/plain": [
       "[1, 2, 3, 4, 5, 6, 7, 33, 42, 24]"
      ]
     },
     "execution_count": 119,
     "metadata": {},
     "output_type": "execute_result"
    }
   ],
   "source": [
    "#2 Extract unique elements from a tuple and store them in a new list.\n",
    "\n",
    "t = (1, 2, 3, 4, 5,5,6,7,6,7,42,2,33,2,2,24,)\n",
    "\n",
    "t1 = set(t)\n",
    "t2 = list(t1)\n",
    "t2"
   ]
  },
  {
   "cell_type": "code",
   "execution_count": 144,
   "id": "eb8dbfe5-50ed-4adc-9209-547b28799c48",
   "metadata": {},
   "outputs": [
    {
     "data": {
      "text/plain": [
       "[2, 2, 3, 3, 3, 3, 4, 5, 5, 5, 6, 25, 78]"
      ]
     },
     "execution_count": 144,
     "metadata": {},
     "output_type": "execute_result"
    }
   ],
   "source": [
    "# 13. Concatenate two tuples and sort them.\n",
    "\n",
    "tup1 = (5,3,6,78,2,3,)\n",
    "tup2 = (3,4,5,2,5,25,3)\n",
    "\n",
    "a=tup1+tup2\n",
    "sort = list(a)\n",
    "sort.sort()\n",
    "sort\n"
   ]
  },
  {
   "cell_type": "code",
   "execution_count": null,
   "id": "5fa9fe88-8804-4b76-a918-09979636d0bc",
   "metadata": {},
   "outputs": [],
   "source": [
    "# 14. Count the frequency of an element in a tuple without using count().\n",
    "\n",
    "t1 = (2,33,4,5,5,2,3,52,5)\n",
    "el = 2\n",
    "count=0\n",
    "\n",
    "for i in t1:\n",
    "    if i==el:\n",
    "        count+=1\n",
    "print(\"Element\", el, \"occurs\", count, \"times\")"
   ]
  },
  {
   "cell_type": "code",
   "execution_count": 3,
   "id": "1400b4e0-d465-4840-bdf8-65fff4a4a5b9",
   "metadata": {},
   "outputs": [
    {
     "name": "stdout",
     "output_type": "stream",
     "text": [
      "Even numbers count: 2\n",
      "Odd numbers count: 5\n"
     ]
    }
   ],
   "source": [
    "#15. From a tuple of numbers, create two tuples: one with even numbers and one with odd numbers\n",
    "\n",
    "\n",
    "tup2 = (3,4,5,2,5,25,3)\n",
    "even=0\n",
    "odd=0\n",
    "for i in tup2:\n",
    "    if i%2==0:\n",
    "        even+=1\n",
    "    elif not i%2==0:\n",
    "        odd+=1\n",
    "    else:\n",
    "        print(\"Please enter postive number : \")\n",
    "    \n",
    "print(\"Even numbers count:\", even)\n",
    "print(\"Odd numbers count:\", odd)"
   ]
  },
  {
   "cell_type": "code",
   "execution_count": 6,
   "id": "a8341400-e321-4ea0-adc4-d8d6a8bc27c9",
   "metadata": {},
   "outputs": [
    {
     "name": "stdout",
     "output_type": "stream",
     "text": [
      "6\n"
     ]
    }
   ],
   "source": [
    "#Count the frequency of an element in a tuple without using count()\n",
    "\n",
    "\n",
    "tup2 = (3,4,5,2,5,25,3,3,444,2,2,2,2,2,)\n",
    "element = 2\n",
    "count =0 \n",
    "\n",
    "for i in tup2:\n",
    "    if i == element:\n",
    "        count+=1\n",
    "\n",
    "print(count)\n",
    "\n",
    "\n",
    "\n",
    "\n"
   ]
  },
  {
   "cell_type": "markdown",
   "id": "1e3af810-3e2c-4642-a90e-f577736ceb7b",
   "metadata": {},
   "source": [
    "# SETS"
   ]
  },
  {
   "cell_type": "code",
   "execution_count": 21,
   "id": "969e96a2-0a8a-43ce-bc88-adb306514478",
   "metadata": {},
   "outputs": [
    {
     "data": {
      "text/plain": [
       "{1, 2, 3, 4, 23, 41}"
      ]
     },
     "execution_count": 21,
     "metadata": {},
     "output_type": "execute_result"
    }
   ],
   "source": [
    "\n",
    "\n",
    "\n",
    "#6. Perform union, intersection, and difference of two sets without using built-in operators\n",
    "\n",
    "\n",
    "s1 = {2,3,4,41,2,2,3}\n",
    "s2 = {23,2,23,4,1,41}\n",
    "\n",
    "\n",
    "l1 = list(s1)\n",
    "l2 = list(s2)\n",
    "\n",
    "union = set(l1+l2)\n",
    "union\n"
   ]
  },
  {
   "cell_type": "code",
   "execution_count": 22,
   "id": "82f56e83-bd0e-4d86-97c4-331c18d28d24",
   "metadata": {},
   "outputs": [
    {
     "name": "stdout",
     "output_type": "stream",
     "text": [
      "Intersection: {41, 2, 4}\n"
     ]
    }
   ],
   "source": [
    "\n",
    "intersection_set = set()\n",
    "for item in s1:\n",
    "    if item in s2:\n",
    "        intersection_set.add(item)\n",
    "\n",
    "print(\"Intersection:\", intersection_set)\n",
    "\n",
    "    "
   ]
  },
  {
   "cell_type": "code",
   "execution_count": 23,
   "id": "d03f76a8-2957-4c62-b1cb-e2ffc42aeae8",
   "metadata": {},
   "outputs": [
    {
     "name": "stdout",
     "output_type": "stream",
     "text": [
      "Difference (A - B): {3}\n"
     ]
    }
   ],
   "source": [
    "difference_set = set()\n",
    "for item in s1:\n",
    "    if item not in s2:\n",
    "        difference_set.add(item)\n",
    "\n",
    "print(\"Difference (A - B):\", difference_set)\n"
   ]
  },
  {
   "cell_type": "code",
   "execution_count": 32,
   "id": "ba4ee717-69fa-44d4-a396-d948fe05d964",
   "metadata": {},
   "outputs": [
    {
     "name": "stdout",
     "output_type": "stream",
     "text": [
      "Removed element: 41\n",
      "Updated set: {2, 3, 4}\n"
     ]
    }
   ],
   "source": [
    "#17. Remove a random element from a set (without using pop())\n",
    "\n",
    "s1 = {2,3,4,41,2,2,3}\n",
    "for i in s1:\n",
    "    s1.remove(i)\n",
    "    break\n",
    "print(\"Removed element:\", i)\n",
    "print(\"Updated set:\", s1)"
   ]
  },
  {
   "cell_type": "code",
   "execution_count": 35,
   "id": "2f25267f-c714-4773-a731-657c25a79d59",
   "metadata": {},
   "outputs": [
    {
     "name": "stdout",
     "output_type": "stream",
     "text": [
      "Duplicates are removed {2, 4, 5, 42, 21, 23, 444}\n"
     ]
    }
   ],
   "source": [
    "#18. Convert a list into a set and check if duplicates are removed.\n",
    "\n",
    "\n",
    "l1 =[23,23,4,5,42,2,2,2,444,21,2,5]\n",
    "\n",
    "s1 = set(l1)\n",
    "print(\"Duplicates are removed\" ,s1)"
   ]
  },
  {
   "cell_type": "code",
   "execution_count": 36,
   "id": "7b98bb6a-6b5c-4290-9d38-fb799513c21c",
   "metadata": {},
   "outputs": [
    {
     "data": {
      "text/plain": [
       "False"
      ]
     },
     "execution_count": 36,
     "metadata": {},
     "output_type": "execute_result"
    }
   ],
   "source": [
    "#19. Check if two sets are disjoint.\n",
    "\n",
    "s1 = {2,3,4,41,2,2,3}\n",
    "s2 = {23,2,23,4,1,41}\n",
    "\n",
    "s1.isdisjoint(s2)"
   ]
  },
  {
   "cell_type": "code",
   "execution_count": 2,
   "id": "fabccd29-dcac-41d4-bdb0-36bdf905eba9",
   "metadata": {},
   "outputs": [
    {
     "name": "stdout",
     "output_type": "stream",
     "text": [
      "50\n"
     ]
    }
   ],
   "source": [
    "#20. Find the sum of all elements in a set\n",
    "\n",
    "\n",
    "s1 = {2,3,4,41,2,2,3}\n",
    "total = sum(s1)\n",
    "print(total)\n"
   ]
  },
  {
   "cell_type": "markdown",
   "id": "6309898e-9412-4389-aad2-21e1aa839bbf",
   "metadata": {},
   "source": [
    "# . Dictionary"
   ]
  },
  {
   "cell_type": "code",
   "execution_count": 15,
   "id": "7e6476b0-2e3a-49f7-aeb8-3b062b3aed91",
   "metadata": {},
   "outputs": [
    {
     "data": {
      "text/plain": [
       "12"
      ]
     },
     "execution_count": 15,
     "metadata": {},
     "output_type": "execute_result"
    }
   ],
   "source": [
    "# 21. Create a dictionary and print keys in ascending order\n",
    "\n",
    "dic = {4:\"hi\",5:\"hit\",2:\"dj\",1:\"af\",0:\"fa\"}\n",
    "dic.keys()\n",
    "sorted(dic)\n",
    "\n"
   ]
  },
  {
   "cell_type": "code",
   "execution_count": 36,
   "id": "eb6aaaa8-70ad-4256-a922-2f9dd369b9a1",
   "metadata": {},
   "outputs": [
    {
     "name": "stdout",
     "output_type": "stream",
     "text": [
      "{4: 'hi', 5: 'hit', 2: 'dj', 1: 'af', 0: 'fa', 'total': 12}\n"
     ]
    }
   ],
   "source": [
    "# 22. Add a new key to a dictionary with value equal to the sum of existing values\n",
    "\n",
    "dic = {4:\"hi\",5:\"hit\",2:\"dj\",1:\"af\",0:\"fa\"}\n",
    "dic[\"total\"] = sum(dic.keys())\n",
    "print(dic)\n"
   ]
  },
  {
   "cell_type": "code",
   "execution_count": 44,
   "id": "3caac56f-34e4-4a09-8815-37b20d0031c3",
   "metadata": {},
   "outputs": [
    {
     "name": "stdout",
     "output_type": "stream",
     "text": [
      "{4: 'hi', 5: 'hit', 2: 'dj', 1: 'af', 0: 'fa', 'name': 'karam', 'work': 2, 'position': 'hr'}\n"
     ]
    }
   ],
   "source": [
    "# 23. Merge two dictionaries into one.\n",
    "\n",
    "dic1 = {4:\"hi\",5:\"hit\",2:\"dj\",1:\"af\",0:\"fa\"}\n",
    "dic2 = {\"name\":\"karam\",\"work\":2,\"position\":\"hr\"}\n",
    "\n",
    "dic1.update(dic2)\n",
    "\n",
    "print(dic1)\n"
   ]
  },
  {
   "cell_type": "code",
   "execution_count": 48,
   "id": "e13ab943-5823-4aeb-af2f-45aa00510640",
   "metadata": {},
   "outputs": [
    {
     "data": {
      "text/plain": [
       "5"
      ]
     },
     "execution_count": 48,
     "metadata": {},
     "output_type": "execute_result"
    }
   ],
   "source": [
    "# 24. Find the key with the largest value in a dictionary\n",
    "\n",
    "dictionary = {4:6770,5:3434324,2:432412,1:1241241,0:411421}\n",
    "\n",
    "max(dictionary.keys())\n"
   ]
  },
  {
   "cell_type": "code",
   "execution_count": 2,
   "id": "b42e3796-830f-4b65-bb3d-244eda944298",
   "metadata": {},
   "outputs": [
    {
     "name": "stdout",
     "output_type": "stream",
     "text": [
      "{'p': 1, 'o': 1, 'r': 2, 'm': 2, 'i': 1, 'g': 2, 'n': 1, 'a': 1}\n"
     ]
    }
   ],
   "source": [
    "# 25. Store the frequency of characters of a string in a dictionary.\n",
    "s = \"programming\"\n",
    "\n",
    "# freq = {}\n",
    "\n",
    "# for char in text:\n",
    "#     if char in freq:\n",
    "#         freq[char] += 1\n",
    "#     else:\n",
    "#         freq[char] = 1\n",
    "\n",
    "# print(freq)\n",
    "\n",
    "\n",
    "\n",
    "\n",
    "freq = {ch: s.count(ch) for ch in set(s)}\n",
    "print(freq)\n"
   ]
  },
  {
   "cell_type": "markdown",
   "id": "1b84c2f5-a21a-4417-bad9-d50f48fe2ab1",
   "metadata": {},
   "source": [
    "# 6. Conditional Statements (5 Questions)"
   ]
  },
  {
   "cell_type": "code",
   "execution_count": 52,
   "id": "36a5fc4d-5514-4dfd-bc72-f2c1a9d9a161",
   "metadata": {},
   "outputs": [
    {
     "name": "stdin",
     "output_type": "stream",
     "text": [
      "Enter your age:  78\n"
     ]
    },
    {
     "name": "stdout",
     "output_type": "stream",
     "text": [
      "You are Eligible for votting : \n"
     ]
    }
   ],
   "source": [
    "# 26. Take age as input and check if the person is eligible to vote or not.\n",
    "\n",
    "\n",
    "age = int(input(\"Enter your age: \"))\n",
    "\n",
    "if age>18:\n",
    "    print(\"You are Eligible for votting \")\n",
    "else:\n",
    "    print(\"You are not eligible\")"
   ]
  },
  {
   "cell_type": "code",
   "execution_count": 61,
   "id": "7ca91944-c6e5-443b-bada-cb6037b55589",
   "metadata": {},
   "outputs": [
    {
     "name": "stdin",
     "output_type": "stream",
     "text": [
      "Enter your first number :  78\n",
      "Enter your second number :  56\n",
      "Enter your third number :  656\n"
     ]
    },
    {
     "name": "stdout",
     "output_type": "stream",
     "text": [
      "number 3 is gratert than other :  656\n"
     ]
    }
   ],
   "source": [
    "# 27. Find the largest among three numbers (using nested if\n",
    "\n",
    "\n",
    "num1  = int(input(\"Enter your first number : \"))\n",
    "num2  = int(input(\"Enter your second number : \"))\n",
    "num3  = int(input(\"Enter your third number : \"))\n",
    "\n",
    "\n",
    "try:\n",
    "    if num1>num2 and num1>num3:\n",
    "        print(\"First number is greater than other \",num1)\n",
    "    if num2>num1 and num2>num3:\n",
    "        print(\"second number is greater than other\" , num2)\n",
    "    else:\n",
    "        print(\"number 3 is gratert than other : \",num3)\n",
    "except ValueError:\n",
    "    print(\"Invalid input. Please enter a valid integer.\")\n"
   ]
  },
  {
   "cell_type": "code",
   "execution_count": 72,
   "id": "1d09c89d-33e2-4bad-858b-8a62e427205d",
   "metadata": {},
   "outputs": [
    {
     "name": "stdin",
     "output_type": "stream",
     "text": [
      "Enter your number 7\n"
     ]
    },
    {
     "name": "stdout",
     "output_type": "stream",
     "text": [
      "7 is a PRIME number\n"
     ]
    }
   ],
   "source": [
    "# 28. Check if a given number is prime or not.\n",
    "\n",
    "\n",
    "num = int(input(\"Enter your number\"))\n",
    "\n",
    "if num > 1:   \n",
    "    for i in range(2, num):\n",
    "        if num % i == 0:   \n",
    "            print(num, \"is NOT a prime number\")\n",
    "            break\n",
    "    else:\n",
    "        print(num, \"is a PRIME number\")\n",
    "else:\n",
    "    print(num, \"is NOT a prime number\")\n",
    "\n"
   ]
  },
  {
   "cell_type": "code",
   "execution_count": 89,
   "id": "5dee98f3-9810-4abf-a4bd-8c067a9cf4bb",
   "metadata": {},
   "outputs": [
    {
     "name": "stdin",
     "output_type": "stream",
     "text": [
      "Enter your mark :    12\n"
     ]
    },
    {
     "name": "stdout",
     "output_type": "stream",
     "text": [
      "You'r Failed \n"
     ]
    }
   ],
   "source": [
    "# 29. Assign grade (A, B, C, Fail) based on marks input.\n",
    "\n",
    "mark = int(input(\"Enter your mark :   \"))\n",
    "\n",
    "if mark < 0 or mark > 100:\n",
    "           print(\"Invalid number\")\n",
    "elif mark >= 0 and mark <=35:\n",
    "    print(\"You'r Failed \")\n",
    "elif mark >35 and mark <=50:\n",
    "    print(\"you got c grade\")\n",
    "elif mark>50 and mark<=85:\n",
    "    print(\"You got B grade\")\n",
    "elif mark>85 and mark <= 100:\n",
    "    print(\"You got A\")"
   ]
  },
  {
   "cell_type": "code",
   "execution_count": 93,
   "id": "f6424c12-d462-444d-a1ad-ac5051c0420e",
   "metadata": {},
   "outputs": [
    {
     "name": "stdin",
     "output_type": "stream",
     "text": [
      "Enter your number 0\n"
     ]
    },
    {
     "name": "stdout",
     "output_type": "stream",
     "text": [
      "Number is zero \n"
     ]
    }
   ],
   "source": [
    "# 30. Check if a number is positive, negative, or zero\n",
    "num = int(input(\"Enter your number\"))\n",
    "\n",
    "if num<0:\n",
    "    print(\"Its is negative number\")\n",
    "elif num>0:\n",
    "    print(\"Its positive number \")\n",
    "elif num == 0:\n",
    "    print(\"Number is zero \")\n",
    "else:\n",
    "    print(\"Please enter interger\")\n",
    "\n"
   ]
  },
  {
   "cell_type": "markdown",
   "id": "3ace252c-6fcc-47ea-8331-25e1c45717ad",
   "metadata": {},
   "source": [
    "# Loops"
   ]
  },
  {
   "cell_type": "code",
   "execution_count": 3,
   "id": "6f29e081-d73a-44a9-9a25-b62d290bcb8f",
   "metadata": {},
   "outputs": [
    {
     "name": "stdout",
     "output_type": "stream",
     "text": [
      "Fibonacci Series:\n",
      "0 1 1 2 3 5 8 13 21 34 "
     ]
    }
   ],
   "source": [
    "# 31. Print the first 10 numbers of the Fibonacci series using for loop\n",
    "n = 10  # numb\n",
    "\n",
    "a, b = 0, 1\n",
    "\n",
    "print(\"Fibonacci Series:\")\n",
    "for i in range(n):\n",
    "    print(a, end=\" \")\n",
    "    a, b = b, a + b\n"
   ]
  },
  {
   "cell_type": "code",
   "execution_count": 14,
   "id": "2ac07f7a-6d8c-4c7a-9239-b3b93d79a60e",
   "metadata": {},
   "outputs": [
    {
     "name": "stdin",
     "output_type": "stream",
     "text": [
      "Enter a number:  5\n"
     ]
    },
    {
     "name": "stdout",
     "output_type": "stream",
     "text": [
      "Factorial of 5 is: 120\n"
     ]
    }
   ],
   "source": [
    "# 32. Find the factorial of a number using while loop.\n",
    "\n",
    "num = int(input(\"Enter a number: \"))\n",
    "fact = 1\n",
    "i = 1\n",
    "\n",
    "while i <= num:\n",
    "    fact = fact * i\n",
    "    i = i + 1\n",
    "\n",
    "print(\"Factorial of\", num, \"is:\", fact)\n",
    "\n",
    "\n"
   ]
  },
  {
   "cell_type": "code",
   "execution_count": 1,
   "id": "6d0dc1b4-52c3-4377-b2a0-2458b09cc438",
   "metadata": {},
   "outputs": [
    {
     "name": "stdout",
     "output_type": "stream",
     "text": [
      "Sum of digits 17\n"
     ]
    }
   ],
   "source": [
    " #33. Input a number and find the sum of its digits using while loop\n",
    "n = 12347\n",
    "s= 0\n",
    "while n>0:\n",
    "    s+=n%10\n",
    "    n//=10\n",
    "print(\"Sum of digits\",s)\n"
   ]
  },
  {
   "cell_type": "code",
   "execution_count": 2,
   "id": "a7541cac-b185-4d13-977f-d9506cfc9ef7",
   "metadata": {},
   "outputs": [
    {
     "name": "stdout",
     "output_type": "stream",
     "text": [
      "[5, 2, 21, 444, 2, 2, 2, 42, 5, 4, 23, 23]\n"
     ]
    }
   ],
   "source": [
    "# 34. Print all elements of a list in reverse order without using reverse()\n",
    "\n",
    "\n",
    "l1 =[23,23,4,5,42,2,2,2,444,21,2,5]\n",
    "\n",
    "\n",
    "l1=l1[::-1]\n",
    "print(l1)"
   ]
  },
  {
   "cell_type": "code",
   "execution_count": 1,
   "id": "44afa577-630a-4b7c-81e6-66d2db87db15",
   "metadata": {},
   "outputs": [
    {
     "name": "stdin",
     "output_type": "stream",
     "text": [
      "Enter a stars :  5\n"
     ]
    },
    {
     "name": "stdout",
     "output_type": "stream",
     "text": [
      "* \n",
      "* * \n",
      "* * * \n",
      "* * * * \n",
      "* * * * * \n"
     ]
    }
   ],
   "source": [
    "# 35. Print a star pattern (triangle) using nested loops.\n",
    "\n",
    "\n",
    "\n",
    "row = int(input(\"Enter a stars : \"))\n",
    "\n",
    "for i in range(row):\n",
    "    for j in range(i+1):\n",
    "        print(\"*\",end =\" \")\n",
    "    print()"
   ]
  },
  {
   "cell_type": "code",
   "execution_count": 12,
   "id": "011afa49-5e0c-42bf-b26a-e8e22cd66cbb",
   "metadata": {},
   "outputs": [
    {
     "name": "stdout",
     "output_type": "stream",
     "text": [
      "[23, 23, 4, 5, 42, 2, 2, 2, 444, 21, 2, 5]\n"
     ]
    }
   ],
   "source": [
    "\n",
    "\n",
    "\n",
    "    "
   ]
  },
  {
   "cell_type": "markdown",
   "id": "a1b0d643-f54c-4d75-b594-6b1fe6398c95",
   "metadata": {},
   "source": [
    "# File Handling"
   ]
  },
  {
   "cell_type": "code",
   "execution_count": 9,
   "id": "c8147fab-7278-4e9b-aac4-3184ca8a7cc6",
   "metadata": {},
   "outputs": [],
   "source": [
    "#36. Write some text into a file and then read and print it.\n",
    "\n",
    "f= open(\"assignment.txt\",\"w\")\n",
    "f.write(\"Hey this is assignment questions\")\n",
    "f.close()"
   ]
  },
  {
   "cell_type": "code",
   "execution_count": 21,
   "id": "887a4d77-cbdf-4905-9b87-5261c42bb40c",
   "metadata": {},
   "outputs": [
    {
     "name": "stdout",
     "output_type": "stream",
     "text": [
      "Total number of lines: 54\n"
     ]
    }
   ],
   "source": [
    "#37.Count the total number of lines in a file\n",
    "\n",
    "with open(\"assignment.txt\",\"r+\") as e:\n",
    "    \n",
    "    lines = e.readline()\n",
    "    print(\"Total number of lines:\", len(lines))\n"
   ]
  },
  {
   "cell_type": "code",
   "execution_count": 25,
   "id": "f5f5d4b8-816c-4bc8-94fe-483bc0f18760",
   "metadata": {},
   "outputs": [
    {
     "name": "stdout",
     "output_type": "stream",
     "text": [
      "Total vowels: 10\n",
      "Total consonants: 61\n"
     ]
    }
   ],
   "source": [
    "#38. Count vowels and consonants in a file.\n",
    "def count_vowels_consonants(filename):\n",
    "    vowels = \"aeiouAEIOU\"\n",
    "    vowel_count = 0\n",
    "    consonant_count = 0\n",
    "\n",
    "    with open(\"assignment.txt\", \"r\") as f:\n",
    "        text = f.read()   # read full file content\n",
    "\n",
    "        for ch in text:\n",
    "            if ch.isalpha():   # check only letters\n",
    "                if ch in vowels:\n",
    "                    vowel_count += 1\n",
    "                else:\n",
    "                    consonant_count += 1\n",
    "\n",
    "    print(\"Total vowels:\", vowel_count)\n",
    "    print(\"Total consonants:\", consonant_count)\n",
    "\n",
    "\n",
    "# Example usage\n",
    "count_vowels_consonants(\"assignment.txt\")\n"
   ]
  },
  {
   "cell_type": "code",
   "execution_count": 16,
   "id": "e85b6434-cdcc-4c6a-b49f-06c0571a30dd",
   "metadata": {},
   "outputs": [
    {
     "name": "stdout",
     "output_type": "stream",
     "text": [
      "HEY THIS IS ASSIGNMENT QUESTIONS SRRSDG SDDGSDGDSSGSD\n",
      "GHD  TS\n",
      "JFJFCHGGSGSGSGSGSGS\n"
     ]
    }
   ],
   "source": [
    "# 39. Convert the content of a file into uppercase and store it in another file\n",
    "\n",
    "with open(\"assignment.txt\", \"r+\") as f:\n",
    "    k = f.read()\n",
    "    content = k.upper()\n",
    "    print(content)\n",
    "\n",
    "    \n",
    "with open(\"output.txt\",\"w\") as new_file:\n",
    "    new_file.write(content)\n",
    "    new_file.close()\n",
    "   "
   ]
  },
  {
   "cell_type": "code",
   "execution_count": null,
   "id": "03ef839d-8545-4956-aa1e-c995ca09c399",
   "metadata": {},
   "outputs": [],
   "source": [
    "# 40. Read a CSV file and print its rows.\n",
    "\n",
    "\n",
    "import csv\n",
    "\n",
    "# Open the CSV file\n",
    "with open(\"data.csv\", mode=\"r\") as file:\n",
    "    reader = csv.reader(file)\n",
    "\n",
    "    # Loop through each row and print\n",
    "    for row in reader:\n",
    "        print(row)\n"
   ]
  },
  {
   "cell_type": "markdown",
   "id": "8b1a3157-71fc-4e78-af74-3e7c5e8d41e3",
   "metadata": {},
   "source": [
    "# 9. OS Module (5 Questions)\n"
   ]
  },
  {
   "cell_type": "code",
   "execution_count": 18,
   "id": "65180240-c4af-4938-bbed-b190bedfe081",
   "metadata": {},
   "outputs": [
    {
     "data": {
      "text/plain": [
       "'C:\\\\Users\\\\PRITESH\\\\Class Python'"
      ]
     },
     "execution_count": 18,
     "metadata": {},
     "output_type": "execute_result"
    }
   ],
   "source": [
    "# 41. Print the current working directory using os module\n",
    "\n",
    "import os \n",
    "\n",
    "\n",
    "os.getcwd()"
   ]
  },
  {
   "cell_type": "code",
   "execution_count": 19,
   "id": "55099398-d674-442c-88a2-8b8d5ced2312",
   "metadata": {},
   "outputs": [],
   "source": [
    "# 42. Create a new folder using os module and create a file inside it.\n",
    "\n",
    "os.mkdir(\"Sample folder\")\n"
   ]
  },
  {
   "cell_type": "code",
   "execution_count": 20,
   "id": "27777d55-9027-47c5-93ae-7be93ed5f938",
   "metadata": {},
   "outputs": [],
   "source": [
    "os.chdir(\"C:\\\\Users\\\\PRITESH\\\\Class Python\\\\Sample folder\")"
   ]
  },
  {
   "cell_type": "code",
   "execution_count": 21,
   "id": "863af0cf-d7ab-4c58-bee9-522ed1032cb9",
   "metadata": {},
   "outputs": [
    {
     "data": {
      "text/plain": [
       "'C:\\\\Users\\\\PRITESH\\\\Class Python\\\\Sample folder'"
      ]
     },
     "execution_count": 21,
     "metadata": {},
     "output_type": "execute_result"
    }
   ],
   "source": [
    "pwd"
   ]
  },
  {
   "cell_type": "code",
   "execution_count": 22,
   "id": "bca2ed47-aeae-44e6-8b59-bdeb8daab979",
   "metadata": {},
   "outputs": [],
   "source": [
    "os.mkdir(\"Samplefile.txt\")"
   ]
  },
  {
   "cell_type": "code",
   "execution_count": 23,
   "id": "78d64d9d-b9f8-4bb0-8406-19a94ea5db01",
   "metadata": {},
   "outputs": [
    {
     "data": {
      "text/plain": [
       "['Samplefile.txt']"
      ]
     },
     "execution_count": 23,
     "metadata": {},
     "output_type": "execute_result"
    }
   ],
   "source": [
    "os.listdir()"
   ]
  },
  {
   "cell_type": "code",
   "execution_count": 24,
   "id": "bd74e87c-ca7e-45cb-ad54-df88b2d3c7f6",
   "metadata": {},
   "outputs": [
    {
     "data": {
      "text/plain": [
       "['Samplefile.txt']"
      ]
     },
     "execution_count": 24,
     "metadata": {},
     "output_type": "execute_result"
    }
   ],
   "source": [
    "# 43. List all files and folders inside a directory.\n",
    "\n",
    "os.listdir()\n"
   ]
  },
  {
   "cell_type": "code",
   "execution_count": 27,
   "id": "ff41d136-6278-4730-90bb-6d2935f3f161",
   "metadata": {},
   "outputs": [
    {
     "data": {
      "text/plain": [
       "0"
      ]
     },
     "execution_count": 27,
     "metadata": {},
     "output_type": "execute_result"
    }
   ],
   "source": [
    "# 44. Check the size of a file using os module.\n",
    "\n",
    "\n",
    "os.path.getsize('Samplefile.txt')"
   ]
  },
  {
   "cell_type": "code",
   "execution_count": 47,
   "id": "4b13cea4-d52a-4336-b1cb-d39cc34fe0b7",
   "metadata": {},
   "outputs": [],
   "source": [
    "# 45. Count all .txt files in a directory.\n",
    "\n",
    "path =os.chdir(\"C:\\\\Users\\\\PRITESH\\\\Class Python\")\n",
    "\n",
    "count = 0"
   ]
  },
  {
   "cell_type": "code",
   "execution_count": 49,
   "id": "71883472-4ad7-4cb9-982f-915da5e9fa20",
   "metadata": {},
   "outputs": [
    {
     "name": "stdout",
     "output_type": "stream",
     "text": [
      "12\n"
     ]
    }
   ],
   "source": [
    "for file in os.listdir(path):\n",
    "    if file.endswith(\".txt\"):\n",
    "        count+=1\n",
    "print(count)"
   ]
  },
  {
   "cell_type": "markdown",
   "id": "4c130d4d-2a37-4c9c-a0a3-1043a7c4fb58",
   "metadata": {},
   "source": [
    "# 10. Try-Exception (5 Questions)"
   ]
  },
  {
   "cell_type": "code",
   "execution_count": 53,
   "id": "226001a6-7a2e-43c7-8fa5-75ec45df4dfc",
   "metadata": {},
   "outputs": [
    {
     "name": "stdin",
     "output_type": "stream",
     "text": [
      "Enter your Numbers :  bnvvb\n"
     ]
    },
    {
     "name": "stdout",
     "output_type": "stream",
     "text": [
      "invalid literal for int() with base 10: 'bnvvb'\n"
     ]
    }
   ],
   "source": [
    "# 46. Write a program that takes user input and prints its square. Handle errors if input is invalid.\n",
    "\n",
    "try:\n",
    "    usr_in = int(input(\"Enter your Numbers : \"))\n",
    "    print(usr_in**2)\n",
    "except Exception as e:\n",
    "    print(e)\n"
   ]
  },
  {
   "cell_type": "code",
   "execution_count": 58,
   "id": "285d6b83-f899-4470-abef-c4d5c84ddbdd",
   "metadata": {},
   "outputs": [
    {
     "name": "stdin",
     "output_type": "stream",
     "text": [
      "Enter your Numbers :  10\n",
      "Enter your Numbers :  0\n"
     ]
    },
    {
     "name": "stdout",
     "output_type": "stream",
     "text": [
      "division by zero\n"
     ]
    }
   ],
   "source": [
    "# 47. Handle ZeroDivisionError with an example program\n",
    "\n",
    "\n",
    "try:\n",
    "     usr_in = int(input(\"Enter your Numbers : \"))\n",
    "     use_in2 = int(input(\"Enter your Numbers : \"))\n",
    "     print(usr_in/use_in2)\n",
    "except Exception as e:\n",
    "    print(e)"
   ]
  },
  {
   "cell_type": "code",
   "execution_count": 61,
   "id": "ae86e82b-9a9e-458d-9550-5c47a2dabf69",
   "metadata": {},
   "outputs": [
    {
     "name": "stdout",
     "output_type": "stream",
     "text": [
      "Inavlid file please check file extension\n"
     ]
    }
   ],
   "source": [
    "#48 Handle FileNotFoundError with an example program.\n",
    "\n",
    "try:\n",
    "    with open(\"sample23.txt\",\"r\") as f:\n",
    "        f.read()\n",
    "except FileNotFoundError :\n",
    "    print(\"Inavlid file please check file extension\")\n",
    "except Exception as e:\n",
    "    print(e)"
   ]
  },
  {
   "cell_type": "code",
   "execution_count": null,
   "id": "9ce53de1-ec0a-4210-8122-c004270d7c9e",
   "metadata": {},
   "outputs": [],
   "source": []
  },
  {
   "cell_type": "code",
   "execution_count": 63,
   "id": "7470785a-c8b2-4412-93ea-0f336008ba46",
   "metadata": {},
   "outputs": [
    {
     "name": "stdout",
     "output_type": "stream",
     "text": [
      "ValueError occurred: invalid literal for int() with base 10: 'abc'\n",
      "Program finished.\n"
     ]
    }
   ],
   "source": [
    "try:\n",
    "    \n",
    "    num = int(\"abc\")   # can't convert string \"abc\" to int\n",
    "    result = \"hello\" + 5   # can't add str and int\n",
    "\n",
    "except ValueError as ve:\n",
    "    print(\"ValueError occurred:\", ve)\n",
    "\n",
    "except TypeError as te:\n",
    "    print(\"TypeError occurred:\", te)\n",
    "\n"
   ]
  },
  {
   "cell_type": "code",
   "execution_count": null,
   "id": "0136c933-9e99-4dee-91ba-14115e4fa192",
   "metadata": {},
   "outputs": [],
   "source": [
    "# 49. Handle both ValueError and TypeError with an example.\n",
    "\n",
    "try:\n",
    "    num1 = int(input(\"Enter first number: \"))\n",
    "    num2 = input(\"Enter second number: \")\n",
    "\n",
    "    # Intentional mistake: multiplying int with string will raise TypeError\n",
    "    result = num1 * num2  \n",
    "\n",
    "except ValueError:\n",
    "    print(\"ValueError: Please enter a valid integer.\")\n",
    "\n",
    "except TypeError:\n",
    "    print(\"TypeError: Cannot perform operation between integer and string.\")\n",
    "\n",
    "else:\n",
    "    print(\"Result is:\", result)\n",
    "\n"
   ]
  },
  {
   "cell_type": "code",
   "execution_count": null,
   "id": "ff18eae8-45a4-4579-b11b-99270522600e",
   "metadata": {},
   "outputs": [],
   "source": [
    "# 50. Write a program with finally block that opens and closes a file.\n",
    "\n"
   ]
  }
 ],
 "metadata": {
  "kernelspec": {
   "display_name": "Python [conda env:base] *",
   "language": "python",
   "name": "conda-base-py"
  },
  "language_info": {
   "codemirror_mode": {
    "name": "ipython",
    "version": 3
   },
   "file_extension": ".py",
   "mimetype": "text/x-python",
   "name": "python",
   "nbconvert_exporter": "python",
   "pygments_lexer": "ipython3",
   "version": "3.13.5"
  }
 },
 "nbformat": 4,
 "nbformat_minor": 5
}
