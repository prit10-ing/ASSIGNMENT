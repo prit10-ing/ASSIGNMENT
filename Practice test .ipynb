{
 "cells": [
  {
   "cell_type": "code",
   "execution_count": 5,
   "id": "d427fbb6-7497-4b66-9fbc-dbb03c3e0c38",
   "metadata": {},
   "outputs": [
    {
     "name": "stdout",
     "output_type": "stream",
     "text": [
      "[2, 3, 4, 5, 6, 34, 35, 43, 53, 56, 67]\n",
      "A largest element in list is : 3 \n",
      "A  Second largest element in list is : 56 \n"
     ]
    }
   ],
   "source": [
    " # Find the 2nd largest and 2nd smallest element in a list.\n",
    "\n",
    "lis = [3,2,3,4,4,5,5,5,6,3,2,2,3,4,67,56,43,34,53,35]\n",
    "\n",
    "convert_set = set(lis)\n",
    "sorted_ = sorted(convert_set)\n",
    "print(sorted_)\n",
    "print(f\"A largest element in list is : {sorted_[1]} \")\n",
    "print(f\"A  Second largest element in list is : {sorted_[-2]} \")\n"
   ]
  },
  {
   "cell_type": "code",
   "execution_count": 11,
   "id": "364b01c6-a9bc-4bac-9724-8da00acc42fb",
   "metadata": {},
   "outputs": [
    {
     "name": "stdout",
     "output_type": "stream",
     "text": [
      "77189\n"
     ]
    }
   ],
   "source": [
    "# 2. Find the key with the largest value in a dictionary.\n",
    "\n",
    "\n",
    "di = {34:\"1st nu\",\n",
    "      45:\"2nd nu\",\n",
    "      456:\"3rd nu\",\n",
    "      7878:\"4th nu\",\n",
    "      77189:\"5th nu\",\n",
    "      3:\"6th nu\"\n",
    "     \n",
    "     \n",
    "     }\n",
    "te =di.keys()\n",
    "print(max(te))"
   ]
  },
  {
   "cell_type": "code",
   "execution_count": 12,
   "id": "429ca604-8695-4cf8-8299-7bd8ce37baaf",
   "metadata": {},
   "outputs": [
    {
     "data": {
      "text/plain": [
       "b'C:\\\\Users\\\\PRITESH\\\\Class Python\\\\ASSIGNMENT'"
      ]
     },
     "execution_count": 12,
     "metadata": {},
     "output_type": "execute_result"
    }
   ],
   "source": [
    "# 3. Create a new folder using os module and create a file inside it.\n",
    "\n",
    "import os\n",
    "\n",
    "os.getcwdb()"
   ]
  },
  {
   "cell_type": "code",
   "execution_count": 13,
   "id": "49bdc38a-f906-400e-8c24-2b73b07748e3",
   "metadata": {},
   "outputs": [],
   "source": []
  },
  {
   "cell_type": "code",
   "execution_count": 14,
   "id": "ebe56320-9da7-43c4-9ea9-9f9f2d5fdcc3",
   "metadata": {},
   "outputs": [
    {
     "data": {
      "text/plain": [
       "['.ipynb_checkpoints',\n",
       " 'A Praxtice Question.ipynb',\n",
       " 'Assignment of 50 q.ipynb',\n",
       " 'assignment.txt',\n",
       " 'ASSIGNMENT2.ipynb',\n",
       " 'data.csv',\n",
       " 'output.txt',\n",
       " 'Practice test .ipynb']"
      ]
     },
     "execution_count": 14,
     "metadata": {},
     "output_type": "execute_result"
    }
   ],
   "source": [
    "os.listdir()"
   ]
  },
  {
   "cell_type": "code",
   "execution_count": 15,
   "id": "d26eeee7-dba8-4a2d-89da-941ce16dfa4b",
   "metadata": {},
   "outputs": [],
   "source": [
    "os.mkdir(\"New Folder\")"
   ]
  },
  {
   "cell_type": "code",
   "execution_count": 16,
   "id": "e20def7b-b7a3-4943-b189-d602e448ce5a",
   "metadata": {},
   "outputs": [],
   "source": [
    "os.chdir('C:\\\\Users\\\\PRITESH\\\\Class Python\\\\ASSIGNMENT\\\\New Folder')"
   ]
  },
  {
   "cell_type": "code",
   "execution_count": 17,
   "id": "5da123d3-4fa6-40b4-a6e2-717e106ed858",
   "metadata": {},
   "outputs": [],
   "source": [
    "os.mkdir(\"practice1.txt\")"
   ]
  },
  {
   "cell_type": "code",
   "execution_count": 23,
   "id": "20400225-20b4-4ff8-859b-27535b407aed",
   "metadata": {},
   "outputs": [],
   "source": [
    "# 4. Write a recursive function to calculate Fibonacci series up to n terms. \n",
    "\n",
    "def fibonacci(n):\n",
    "    a=0\n",
    "    b=1\n",
    "    for i in range(n):\n",
    "        print(b,end=\" \")\n",
    "        a,b=b,a+b\n",
    "    "
   ]
  },
  {
   "cell_type": "code",
   "execution_count": 24,
   "id": "de36eec1-6798-4fc2-a99e-4157f0621a43",
   "metadata": {},
   "outputs": [
    {
     "name": "stdout",
     "output_type": "stream",
     "text": [
      "1 1 2 3 5 8 13 21 34 55 "
     ]
    }
   ],
   "source": [
    "fibonacci(10)"
   ]
  },
  {
   "cell_type": "code",
   "execution_count": 26,
   "id": "e111b8d3-8c93-47d9-95ca-10c412c6e278",
   "metadata": {},
   "outputs": [
    {
     "name": "stdout",
     "output_type": "stream",
     "text": [
      "[27, 125, 216, 8, 64, 125, 216, 216, 287496, 649461896, 181898748296, 216, 343, 512, 512]\n"
     ]
    }
   ],
   "source": [
    "# 5. Use a lambda with map() to convert a list of integers into their cubes. \n",
    "\n",
    "lis = [3,5,6,2,4,5,6,6,66,866,5666,6,7,8,8,]\n",
    "cube = list(map(lambda x:x**3,lis))\n",
    "print(cube)"
   ]
  },
  {
   "cell_type": "code",
   "execution_count": 33,
   "id": "7002f9f4-c87a-425a-8203-02151d80d207",
   "metadata": {},
   "outputs": [],
   "source": [
    "# Create a class Employee that increases salary by 10%.\n",
    "\n",
    "class Employee:\n",
    "    def salary(self,salary):\n",
    "        return f\"This is your salary after 10% : {salary*0.1} \"\n",
    "    "
   ]
  },
  {
   "cell_type": "code",
   "execution_count": 34,
   "id": "fc115f72-9461-4b7c-a66b-f1da8a1a6f04",
   "metadata": {},
   "outputs": [],
   "source": [
    "Obj=Employee()"
   ]
  },
  {
   "cell_type": "code",
   "execution_count": 35,
   "id": "42202a1c-3aec-4184-9068-bffa3b1dc402",
   "metadata": {},
   "outputs": [
    {
     "data": {
      "text/plain": [
       "'This is your salary after 10% : 4500.0 '"
      ]
     },
     "execution_count": 35,
     "metadata": {},
     "output_type": "execute_result"
    }
   ],
   "source": [
    "Obj.salary(45000)"
   ]
  },
  {
   "cell_type": "code",
   "execution_count": 41,
   "id": "c1c41245-a107-433f-88d0-f1a5dec98f56",
   "metadata": {},
   "outputs": [
    {
     "name": "stdout",
     "output_type": "stream",
     "text": [
      "16-10-2025\n"
     ]
    }
   ],
   "source": [
    "# 7. Write a program to print the date 30 days from today. \n",
    "\n",
    "\n",
    "from datetime import datetime, timedelta\n",
    "\n",
    "\n",
    "today = datetime.today()\n",
    "time= timedelta(days=30)\n",
    "next_30days = today+time\n",
    "k = next_30days.strftime(\"%d-%m-%Y\")\n",
    "print(k)"
   ]
  },
  {
   "cell_type": "code",
   "execution_count": 43,
   "id": "5c4aba12-a5e7-49c1-8c0c-434cd8cffdc6",
   "metadata": {},
   "outputs": [
    {
     "data": {
      "text/plain": [
       "45.0"
      ]
     },
     "execution_count": 43,
     "metadata": {},
     "output_type": "execute_result"
    }
   ],
   "source": [
    "# 8. Write a program to convert radians to degrees and vice versa. \n",
    "\n",
    "\n",
    "import math as mt\n",
    "\n",
    "mt.degrees(0.7853981633974483)"
   ]
  },
  {
   "cell_type": "code",
   "execution_count": 51,
   "id": "8798d883-c7aa-4b5a-9780-46e4e9ad251b",
   "metadata": {},
   "outputs": [
    {
     "name": "stdout",
     "output_type": "stream",
     "text": [
      "8837188784 = True\n",
      "1234567890 = False\n",
      "9298476387 = True\n"
     ]
    }
   ],
   "source": [
    "# 9.  Write a regex to validate if a string is a valid Indian mobile number (10 digits).\n",
    "\n",
    "import re\n",
    "numbers = [\"8837188784\", \"1234567890\",\"9298476387\"]\n",
    "\n",
    "pattern =(r\"^[6-9]\\d{9}$\")\n",
    "\n",
    "for num in numbers:\n",
    "    match=re.match(pattern,num)\n",
    "    print(f'{num} = {bool(match)}')"
   ]
  },
  {
   "cell_type": "code",
   "execution_count": 57,
   "id": "57ae50fc-5c16-4b14-ae90-799be0787e3e",
   "metadata": {},
   "outputs": [],
   "source": [
    "# 10. Create a class Bank with encapsulated methods to show account details securely. \n",
    "\n",
    "class Bank:\n",
    "    def __init__(self,name,account_num,balance):\n",
    "        self.__name=name\n",
    "        self.__account_num = account_num\n",
    "        self.__balance = balance\n",
    "        \n",
    "        \n",
    "    def get_account(self):\n",
    "        return self.__name,self.__account_num,self.__balance\n",
    "                \n",
    "                \n"
   ]
  },
  {
   "cell_type": "code",
   "execution_count": 58,
   "id": "03a3fe31-e299-43e8-97f1-cdcf2b2f6a79",
   "metadata": {},
   "outputs": [],
   "source": [
    "obj =Bank(\"raj\",1232322,45000)"
   ]
  },
  {
   "cell_type": "code",
   "execution_count": 59,
   "id": "14eaa175-3402-4f4e-9730-e3fae983d081",
   "metadata": {},
   "outputs": [
    {
     "data": {
      "text/plain": [
       "('raj', 1232322, 45000)"
      ]
     },
     "execution_count": 59,
     "metadata": {},
     "output_type": "execute_result"
    }
   ],
   "source": [
    "obj.get_account()"
   ]
  },
  {
   "cell_type": "code",
   "execution_count": null,
   "id": "58e2f174-069c-4856-8e7b-703a7238acb4",
   "metadata": {},
   "outputs": [],
   "source": []
  }
 ],
 "metadata": {
  "kernelspec": {
   "display_name": "Python [conda env:base] *",
   "language": "python",
   "name": "conda-base-py"
  },
  "language_info": {
   "codemirror_mode": {
    "name": "ipython",
    "version": 3
   },
   "file_extension": ".py",
   "mimetype": "text/x-python",
   "name": "python",
   "nbconvert_exporter": "python",
   "pygments_lexer": "ipython3",
   "version": "3.13.5"
  }
 },
 "nbformat": 4,
 "nbformat_minor": 5
}
