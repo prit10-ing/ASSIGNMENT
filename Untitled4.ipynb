{
 "cells": [
  {
   "cell_type": "code",
   "execution_count": 1,
   "id": "85ba1126-0827-4e7e-8d65-91bbee1c7957",
   "metadata": {},
   "outputs": [],
   "source": [
    "# Write a program to find the second largest number in a list without using sort() or max() more than once.\n",
    "\n",
    "\n",
    "l1 = [3,4,5,5,5,52,3,2,3,4,3,]\n",
    "\n",
    "\n",
    "s=set(l1)\n",
    "\n",
    "\n",
    "\n"
   ]
  },
  {
   "cell_type": "code",
   "execution_count": 5,
   "id": "66f1a5e8-e47a-4dc8-ad72-3b9497d5b08c",
   "metadata": {},
   "outputs": [],
   "source": [
    "k = sorted(s)\n",
    "\n",
    "m=list(k)"
   ]
  },
  {
   "cell_type": "code",
   "execution_count": 8,
   "id": "d55eaa42-1590-4542-9579-fa32fccba381",
   "metadata": {},
   "outputs": [
    {
     "name": "stdout",
     "output_type": "stream",
     "text": [
      "5\n"
     ]
    }
   ],
   "source": [
    "\n",
    "print(m[-2])"
   ]
  },
  {
   "cell_type": "code",
   "execution_count": 44,
   "id": "3b774e93-7d94-48b6-9009-7b7e5bc307ea",
   "metadata": {},
   "outputs": [
    {
     "name": "stdout",
     "output_type": "stream",
     "text": [
      "Missing number: 3\n"
     ]
    }
   ],
   "source": [
    "# Input: a list of unique numbers from 1 to n (with one missing). Find the missing number using loops only.\n",
    "# Example: [1, 2, 4, 5] → Output: 3\n",
    "\n",
    "nums = [1, 2, 4, 5]\n",
    "\n",
    "n = len(nums) + 1   \n",
    "missing = None\n",
    "\n",
    "for i in range(1, n+1):   \n",
    "    present = False\n",
    "    for j in nums:        \n",
    "        if i == j:\n",
    "            present = True\n",
    "            break\n",
    "    if not present:\n",
    "        missing = i\n",
    "        break\n",
    "\n",
    "print(\"Missing number:\", missing)\n"
   ]
  },
  {
   "cell_type": "code",
   "execution_count": 39,
   "id": "eb49d634-5f76-4c9b-978c-f27e64471a29",
   "metadata": {},
   "outputs": [
    {
     "name": "stdout",
     "output_type": "stream",
     "text": [
      "a 2b 3j 2d 3"
     ]
    }
   ],
   "source": [
    "# For a given string, count consecutive repeating characters and compress it.\n",
    "# # Example: \"aaabbccccd\" → \"a3b2c4d1\n",
    "\n",
    "\n",
    "str1 =\"abbjdjba\"\n",
    "\n",
    "count=0\n",
    "count1=0\n",
    "count2 =0\n",
    "count3 =0\n",
    "\n",
    "for i in str1:\n",
    "    if i in \"a\":\n",
    "        count+=1\n",
    "        continue\n",
    "    elif i in \"b\":\n",
    "        count1+=1\n",
    "        continue\n",
    "    elif i in \"j\":\n",
    "        count2+=1\n",
    "        continue \n",
    "    elif i in \"d\":\n",
    "        count3+=1\n",
    "        continue \n",
    "        \n",
    "        \n",
    "print(\"a\",count , end =\"\")\n",
    "print(\"b\",count1 , end =\"\")\n",
    "print(\"j\",count2 , end =\"\")\n",
    "print(\"d\",count1 , end =\"\")\n",
    "\n",
    "\n",
    "\n",
    "    \n",
    "        \n",
    "\n",
    "\n",
    "\n"
   ]
  },
  {
   "cell_type": "code",
   "execution_count": 43,
   "id": "0b9d0265-15b8-4de8-925d-1f951de37391",
   "metadata": {},
   "outputs": [
    {
     "name": "stdout",
     "output_type": "stream",
     "text": [
      "a 2b 3j 2d 1"
     ]
    }
   ],
   "source": [
    "s = \"abbjdjba\"\n",
    "print(\"a\",s.count(\"a\") ,end =\"\")\n",
    "print(\"b\",s.count(\"b\"),end =\"\")\n",
    "print(\"j\",s.count(\"j\"),end=\"\")\n",
    "print(\"d\",s.count(\"d\"),end=\"\")\n"
   ]
  },
  {
   "cell_type": "code",
   "execution_count": 60,
   "id": "13927abc-4971-4a10-9f99-c7bf22d71539",
   "metadata": {},
   "outputs": [
    {
     "name": "stdin",
     "output_type": "stream",
     "text": [
      "Enter your string :  code\n"
     ]
    },
    {
     "name": "stdout",
     "output_type": "stream",
     "text": [
      "Its a Balanced String\n",
      "2 2\n"
     ]
    }
   ],
   "source": [
    "# 4. Check Balanced String\n",
    "# A string is balanced if the number of vowels equals the number of consonants.\n",
    "# Example: \"code\" → Balanced (2 vowels, 2 consonants).\t\n",
    "\n",
    "\n",
    "\n",
    "str1 = input(\"Enter your string : \")\n",
    "\n",
    "vowel = \"aeiou\"\n",
    "count = 0\n",
    "consonants = 0\n",
    "\n",
    "for i in str1:\n",
    "    if i in vowel:\n",
    "        count+=1\n",
    "    else:\n",
    "        consonants+=1\n",
    "if count == consonants:\n",
    "    print(\"Its a Balanced String\")\n",
    "else:\n",
    "    print(\"Not Balanced\")\n",
    "\n",
    "print(count,consonants)\n",
    "\n",
    "\n",
    "    "
   ]
  },
  {
   "cell_type": "code",
   "execution_count": 78,
   "id": "0858bfc3-29eb-48b1-9585-49679b132b7f",
   "metadata": {},
   "outputs": [
    {
     "name": "stdout",
     "output_type": "stream",
     "text": [
      "[3, 0, 5]\n"
     ]
    }
   ],
   "source": [
    "# Given a list, create a new list where each element is the difference between the largest element and the current element.\n",
    "# # Example: [4, 7, 2] → [3, 0, 5]\n",
    "\n",
    "\n",
    "\n",
    "lst = [4, 7, 2]\n",
    "new_list = []\n",
    "\n",
    "max_val = max(lst)  \n",
    "\n",
    "for num in lst:\n",
    "    new_list.append(max_val - num)\n",
    "\n",
    "print(new_list)   \n"
   ]
  },
  {
   "cell_type": "code",
   "execution_count": null,
   "id": "37bbfdd4-ee79-4fbd-953b-aadea1a3446f",
   "metadata": {},
   "outputs": [],
   "source": []
  }
 ],
 "metadata": {
  "kernelspec": {
   "display_name": "Python [conda env:base] *",
   "language": "python",
   "name": "conda-base-py"
  },
  "language_info": {
   "codemirror_mode": {
    "name": "ipython",
    "version": 3
   },
   "file_extension": ".py",
   "mimetype": "text/x-python",
   "name": "python",
   "nbconvert_exporter": "python",
   "pygments_lexer": "ipython3",
   "version": "3.13.5"
  }
 },
 "nbformat": 4,
 "nbformat_minor": 5
}
